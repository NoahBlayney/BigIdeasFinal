{
 "cells": [
  {
   "cell_type": "markdown",
   "metadata": {},
   "source": [
    "# Police Incidents by Hierarchy"
   ]
  },
  {
   "cell_type": "markdown",
   "metadata": {},
   "source": [
    "The metric I chose is based on the location and priority of police incidents. The dataset I used was https://data.wprdc.org/dataset/police-incident-blotter. Police incidents based on hierarchy are able to pinpoint where the most and least dangerous neighborhoods are."
   ]
  },
  {
   "cell_type": "code",
   "execution_count": null,
   "metadata": {},
   "outputs": [],
   "source": [
    "import pandas as pd\n",
    "import numpy as np\n",
    "%matplotlib inline\n",
    "import matplotlib.pyplot as plt"
   ]
  },
  {
   "cell_type": "code",
   "execution_count": null,
   "metadata": {},
   "outputs": [],
   "source": [
    "pib = pd.read_csv(\"pib.csv\")                 \n",
    "pib = pib.drop(['PK','CCR','HIERARCHY','INCIDENTTIME','INCIDENTLOCATION','CLEAREDFLAG','INCIDENTZONE','INCIDENTHIERARCHYDESC','INCIDENTHIERARCHYDESC','INCIDENTTRACT','COUNCIL_DISTRICT','PUBLIC_WORKS_DIVISION','X','Y'],axis=1)\n",
    "\n",
    "pib = pib.groupby(\"INCIDENTNEIGHBORHOOD\").count()\n",
    "pib = pib.sort_values(by='OFFENSES', ascending=True)\n",
    "pib = pib.head(25)\n",
    "pib.plot.bar(y = \"OFFENSES\",title = \"Police Incident by # of Offenses\", figsize=(10,5))\n",
    "plt.xlabel(\"Neighborhood\")\n",
    "plt.ylabel(\"Number of Offenses\")"
   ]
  },
  {
   "cell_type": "code",
   "execution_count": null,
   "metadata": {},
   "outputs": [],
   "source": [
    "pib = pd.read_csv(\"pib.csv\")                   \n",
    "pib = pib.drop(['PK','CCR','INCIDENTTIME','INCIDENTLOCATION','CLEAREDFLAG','INCIDENTZONE','INCIDENTHIERARCHYDESC','INCIDENTHIERARCHYDESC','INCIDENTTRACT','COUNCIL_DISTRICT','PUBLIC_WORKS_DIVISION','X','Y'],axis=1)\n",
    "#Only check crimes lowest of the hierarchy\n",
    "pib = pib[pib.HIERARCHY == 99]\n",
    "pib = pib.drop(['HIERARCHY'], axis = 1)\n",
    "\n",
    "pib = pib.groupby(\"INCIDENTNEIGHBORHOOD\").count()\n",
    "pib = pib.sort_values(by='OFFENSES', ascending=True)\n",
    "pib = pib.head(25)\n",
    "pib.plot.bar(y = \"OFFENSES\",title = \"Police Incident by # of Offenses [Hierarchy=99 (Lowest Value)]\", figsize=(10,5))\n",
    "plt.xlabel(\"Neighborhood\")\n",
    "plt.ylabel(\"Number of Offenses\")"
   ]
  },
  {
   "cell_type": "markdown",
   "metadata": {},
   "source": [
    "# Police Incident Metric Conlusion"
   ]
  },
  {
   "cell_type": "markdown",
   "metadata": {},
   "source": [
    "In conclusion, the best neighborhood by this metric would have to be **Ridgemont**. Ridgemont has the least total offenses when including crimes of all portions of the hierarchy, as well as one of the fewest in crimes lowest on the hiearchy. This metric heavily favors low population neighborhoods because incidents are less likely to occur. With this in mind, **New Homestead** would be a very close contender for best neighbor hood. Other neighborhoods that could be considered for best neighborhood are St. Clair or Regent Square.\n"
   ]
  },
  {
   "cell_type": "code",
   "execution_count": null,
   "metadata": {},
   "outputs": [],
   "source": [
    "pib = pd.read_csv(\"pib.csv\")                 \n",
    "pib = pib.drop(['PK','CCR','HIERARCHY','INCIDENTTIME','INCIDENTLOCATION','CLEAREDFLAG','INCIDENTZONE','INCIDENTHIERARCHYDESC','INCIDENTHIERARCHYDESC','INCIDENTTRACT','COUNCIL_DISTRICT','PUBLIC_WORKS_DIVISION','X','Y'],axis=1)\n",
    "pib = pib.groupby(\"INCIDENTNEIGHBORHOOD\").count()\n",
    "pib = pib.sort_values(by='OFFENSES', ascending=True)\n",
    "print(pib.head(30),\"\\n\\n\")\n",
    "\n",
    "pib = pd.read_csv(\"pib.csv\")                   \n",
    "pib = pib.drop(['PK','CCR','INCIDENTTIME','INCIDENTLOCATION','CLEAREDFLAG','INCIDENTZONE','INCIDENTHIERARCHYDESC','INCIDENTHIERARCHYDESC','INCIDENTTRACT','COUNCIL_DISTRICT','PUBLIC_WORKS_DIVISION','X','Y'],axis=1)\n",
    "pib = pib[pib.HIERARCHY == 99]\n",
    "pib = pib.drop(['HIERARCHY'], axis = 1)\n",
    "pib = pib.groupby(\"INCIDENTNEIGHBORHOOD\").count()\n",
    "pib = pib.sort_values(by='OFFENSES', ascending=True)\n",
    "print(pib.head(30))"
   ]
  },
  {
   "cell_type": "code",
   "execution_count": null,
   "metadata": {},
   "outputs": [],
   "source": []
  }
 ],
 "metadata": {
  "kernelspec": {
   "display_name": "Python 3",
   "language": "python",
   "name": "python3"
  },
  "language_info": {
   "codemirror_mode": {
    "name": "ipython",
    "version": 3
   },
   "file_extension": ".py",
   "mimetype": "text/x-python",
   "name": "python",
   "nbconvert_exporter": "python",
   "pygments_lexer": "ipython3",
   "version": "3.8.3"
  }
 },
 "nbformat": 4,
 "nbformat_minor": 4
}
